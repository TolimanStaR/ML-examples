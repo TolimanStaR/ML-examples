{
 "cells": [
  {
   "cell_type": "code",
   "execution_count": 6,
   "metadata": {
    "collapsed": true
   },
   "outputs": [],
   "source": [
    "import os\n",
    "\n",
    "path = f'/home/toliman/PycharmProjects/PythonProgramming/deeplearning/data/aclImdb'\n",
    "train_dir = os.path.join(path, 'train')\n",
    "\n",
    "labels, texts = [], []"
   ]
  },
  {
   "cell_type": "code",
   "execution_count": 7,
   "outputs": [],
   "source": [
    "for label_type in 'pos', 'neg':\n",
    "    dir_name = os.path.join(train_dir, label_type)\n",
    "    for file_name in os.listdir(dir_name):\n",
    "        if '.txt' in file_name:\n",
    "            f = open(os.path.join(dir_name, file_name))\n",
    "            texts.append(f.read())\n",
    "            f.close()\n",
    "            labels.append(1 if label_type == 'pos' else 0)"
   ],
   "metadata": {
    "collapsed": false,
    "pycharm": {
     "name": "#%%\n"
    }
   }
  },
  {
   "cell_type": "code",
   "execution_count": 7,
   "outputs": [],
   "source": [
    "from tensorflow.keras.preprocessing.text import Tokenizer\n",
    "from tensorflow.keras.preprocessing.sequence import pad_sequences\n",
    "import numpy as np"
   ],
   "metadata": {
    "collapsed": false,
    "pycharm": {
     "name": "#%%\n"
    }
   }
  },
  {
   "cell_type": "code",
   "execution_count": 8,
   "outputs": [],
   "source": [
    "max_len = 100\n",
    "training_samples = 200\n",
    "validation_samples = 10000\n",
    "max_words = 10000\n",
    "\n",
    "tokenizer = Tokenizer(num_words=max_words)\n",
    "tokenizer.fit_on_texts(texts=texts)\n",
    "sequences = tokenizer.texts_to_sequences(texts=texts)\n",
    "\n",
    "word_index = tokenizer.word_index\n",
    "print(f'Found {word_index} unique tokens')\n",
    "\n",
    "data = pad_sequences(sequences, maxlen=max_len)\n",
    "\n",
    "labels = np.asarray(labels)\n",
    "print(f'Shape of data tensor is {data.shape}')\n",
    "print(f'Shape of labels tensor is {labels.shape}')\n",
    "\n",
    "indices = np.arange(data.shape[0])\n",
    "np.random.shuffle(indices)\n",
    "data = data[indices]\n",
    "labels = labels[indices]\n",
    "\n",
    "x_train = data[:training_samples]\n",
    "y_train = labels[:training_samples]\n",
    "x_val = data[training_samples:training_samples + validation_samples]\n",
    "y_val = labels[training_samples: training_samples + validation_samples]\n"
   ],
   "metadata": {
    "collapsed": false,
    "pycharm": {
     "name": "#%%\n"
    }
   }
  }
 ],
 "metadata": {
  "kernelspec": {
   "display_name": "Python 3",
   "language": "python",
   "name": "python3"
  },
  "language_info": {
   "codemirror_mode": {
    "name": "ipython",
    "version": 2
   },
   "file_extension": ".py",
   "mimetype": "text/x-python",
   "name": "python",
   "nbconvert_exporter": "python",
   "pygments_lexer": "ipython2",
   "version": "2.7.6"
  }
 },
 "nbformat": 4,
 "nbformat_minor": 0
}