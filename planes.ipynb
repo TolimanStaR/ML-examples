{
 "cells": [
  {
   "cell_type": "code",
   "execution_count": 4,
   "metadata": {
    "collapsed": true,
    "pycharm": {
     "name": "#%%\n"
    }
   },
   "outputs": [],
   "source": [
    "import os\n",
    "from matplotlib import pyplot as plt\n",
    "from PIL import Image\n",
    "from tensorflow.keras.preprocessing.image import img_to_array\n",
    "import pandas as pd\n",
    "from tensorflow.keras import models\n",
    "from tensorflow.keras import layers\n",
    "from tensorflow.keras import activations\n",
    "from tensorflow.keras import optimizers\n",
    "from tensorflow.keras.metrics import AUC\n",
    "from tensorflow.keras import regularizers\n",
    "import numpy as np\n",
    "from sklearn.model_selection import train_test_split\n",
    "\n",
    "train_dir = r'/home/toliman/PycharmProjects/PythonProgramming/deeplearning/DeepLearning/planes_data/avia-train'\n",
    "test_dir = r'/home/toliman/PycharmProjects/PythonProgramming/deeplearning/DeepLearning/planes_data/avia-test'\n",
    "train_labels_file = r'/home/toliman/PycharmProjects/PythonProgramming/deeplearning/DeepLearning/planes_data/train.csv'\n",
    "n = 31080 * 4\n",
    "\n",
    "file_names = os.listdir(train_dir)\n",
    "file_names.sort(key=lambda x: int(x.split('.')[1]))\n",
    "\n",
    "imsize_x, imsize_y = 32, 32\n",
    "\n",
    "train_x = np.zeros(shape=(n, imsize_x, imsize_y, 3))\n",
    "test_x = np.zeros(shape=(101000, imsize_x, imsize_y, 3))\n",
    "train_y = list(map(lambda x: int(x[:-1]), open(train_labels_file).readlines()))\n",
    "__t_y = np.zeros(shape=(n,))\n",
    "for i, x in enumerate(train_y):\n",
    "    __t_y[4 * i:4 * (i + 1)] = np.array([x, x, x, x])\n",
    "train_y = __t_y"
   ]
  },
  {
   "cell_type": "code",
   "execution_count": 1,
   "outputs": [
    {
     "ename": "NameError",
     "evalue": "name 'file_names' is not defined",
     "output_type": "error",
     "traceback": [
      "\u001B[0;31m---------------------------------------------------------------------------\u001B[0m",
      "\u001B[0;31mNameError\u001B[0m                                 Traceback (most recent call last)",
      "\u001B[0;32m/tmp/ipykernel_9357/3644457078.py\u001B[0m in \u001B[0;36m<module>\u001B[0;34m\u001B[0m\n\u001B[1;32m      1\u001B[0m \u001B[0;32mimport\u001B[0m \u001B[0mcv2\u001B[0m\u001B[0;34m\u001B[0m\u001B[0;34m\u001B[0m\u001B[0m\n\u001B[1;32m      2\u001B[0m \u001B[0;34m\u001B[0m\u001B[0m\n\u001B[0;32m----> 3\u001B[0;31m \u001B[0;32mfor\u001B[0m \u001B[0mi\u001B[0m\u001B[0;34m,\u001B[0m \u001B[0mimg\u001B[0m \u001B[0;32min\u001B[0m \u001B[0menumerate\u001B[0m\u001B[0;34m(\u001B[0m\u001B[0mfile_names\u001B[0m\u001B[0;34m)\u001B[0m\u001B[0;34m:\u001B[0m\u001B[0;34m\u001B[0m\u001B[0;34m\u001B[0m\u001B[0m\n\u001B[0m\u001B[1;32m      4\u001B[0m     \u001B[0;31m# break\u001B[0m\u001B[0;34m\u001B[0m\u001B[0;34m\u001B[0m\u001B[0;34m\u001B[0m\u001B[0m\n\u001B[1;32m      5\u001B[0m     \u001B[0mimage\u001B[0m \u001B[0;34m=\u001B[0m \u001B[0mImage\u001B[0m\u001B[0;34m.\u001B[0m\u001B[0mopen\u001B[0m\u001B[0;34m(\u001B[0m\u001B[0mos\u001B[0m\u001B[0;34m.\u001B[0m\u001B[0mpath\u001B[0m\u001B[0;34m.\u001B[0m\u001B[0mjoin\u001B[0m\u001B[0;34m(\u001B[0m\u001B[0mtrain_dir\u001B[0m\u001B[0;34m,\u001B[0m \u001B[0mimg\u001B[0m\u001B[0;34m)\u001B[0m\u001B[0;34m)\u001B[0m\u001B[0;34m\u001B[0m\u001B[0;34m\u001B[0m\u001B[0m\n",
      "\u001B[0;31mNameError\u001B[0m: name 'file_names' is not defined"
     ]
    }
   ],
   "source": [
    "import cv2\n",
    "\n",
    "for i, img in enumerate(file_names):\n",
    "    # break\n",
    "    image = Image.open(os.path.join(train_dir, img))\n",
    "    img_arr = cv2.resize(np.asarray(image), (imsize_x, imsize_y), interpolation=cv2.INTER_CUBIC)\n",
    "    try:\n",
    "        train_x[i * 4] = img_arr\n",
    "        train_x[i * 4 + 1] = np.rot90(img_arr, 1)\n",
    "        train_x[i * 4 + 2] = np.rot90(img_arr, 2)\n",
    "        train_x[i * 4 + 3] = np.rot90(img_arr, 3)\n",
    "    except Exception:\n",
    "        new_arr = np.zeros((imsize_x, imsize_y, 3))\n",
    "        for x in range(imsize_x):\n",
    "            for y in range(imsize_y):\n",
    "                new_arr[x][y] = img_arr[x][y][:3]\n",
    "        train_x[i * 4] = new_arr\n",
    "        train_x[i * 4 + 1] = np.rot90(new_arr, 1)\n",
    "        train_x[i * 4 + 2] = np.rot90(new_arr, 2)\n",
    "        train_x[i * 4 + 3] = np.rot90(new_arr, 3)\n",
    "    if i % 1000 == 0:\n",
    "        print(f'{i // 1000}k')\n"
   ],
   "metadata": {
    "collapsed": false,
    "pycharm": {
     "name": "#%%\n"
    }
   }
  },
  {
   "cell_type": "code",
   "execution_count": 3,
   "outputs": [],
   "source": [
    "d = []\n",
    "\n",
    "# for i, filename in enumerate(os.listdir(test_dir)):\n",
    "#     if i%1000 == 0:\n",
    "#         print(f'renamed {i//1000}k')\n",
    "#     d.append(filename)\n",
    "#     os.rename(os.path.join(test_dir, filename), os.path.join(test_dir, f'img.{i}.png'))\n",
    "\n",
    "test_file_names = os.listdir(test_dir)\n",
    "test_file_names.sort(key=lambda x: int(x.split('.')[1]))\n",
    "\n",
    "for i, img in enumerate(test_file_names):\n",
    "    # break\n",
    "    image = Image.open(os.path.join(test_dir, img))\n",
    "    img_arr = cv2.resize(np.asarray(image), (imsize_x, imsize_y), interpolation=cv2.INTER_CUBIC)\n",
    "    try:\n",
    "        test_x[i] = img_arr\n",
    "    except Exception:\n",
    "        new_arr = np.zeros((imsize_x, imsize_y, 3))\n",
    "        for x in range(imsize_x):\n",
    "            for y in range(imsize_y):\n",
    "                new_arr[x][y] = img_arr[x][y][:3]\n",
    "        test_x[i] = new_arr\n",
    "    if i % 1000 == 0:\n",
    "        print(f'{i // 1000}k')"
   ],
   "metadata": {
    "collapsed": false,
    "pycharm": {
     "name": "#%%\n"
    }
   }
  },
  {
   "cell_type": "code",
   "execution_count": 4,
   "outputs": [],
   "source": [
    "# test_seq = open(r'C:\\Users\\User\\PycharmProjects\\DeepLearning\\planes_data\\test_seq.txt', 'w')\n",
    "# for x in d:\n",
    "#     test_seq.write(x.split('.')[0]+'\\n')\n",
    "# test_seq.close()"
   ],
   "metadata": {
    "collapsed": false,
    "pycharm": {
     "name": "#%%\n"
    }
   }
  },
  {
   "cell_type": "code",
   "execution_count": 5,
   "outputs": [],
   "source": [
    "train_x, val_x, train_y, val_y = train_test_split(train_x, train_y, test_size=.25)"
   ],
   "metadata": {
    "collapsed": false,
    "pycharm": {
     "name": "#%%\n"
    }
   }
  },
  {
   "cell_type": "code",
   "execution_count": 3,
   "outputs": [
    {
     "name": "stdout",
     "output_type": "stream",
     "text": [
      "Model: \"sequential\"\n",
      "_________________________________________________________________\n",
      "Layer (type)                 Output Shape              Param #   \n",
      "=================================================================\n",
      "conv2d (Conv2D)              (None, 19, 19, 32)        416       \n",
      "_________________________________________________________________\n",
      "max_pooling2d (MaxPooling2D) (None, 9, 9, 32)          0         \n",
      "_________________________________________________________________\n",
      "conv2d_1 (Conv2D)            (None, 8, 8, 64)          8256      \n",
      "_________________________________________________________________\n",
      "max_pooling2d_1 (MaxPooling2 (None, 4, 4, 64)          0         \n",
      "_________________________________________________________________\n",
      "conv2d_2 (Conv2D)            (None, 3, 3, 128)         32896     \n",
      "_________________________________________________________________\n",
      "dropout (Dropout)            (None, 3, 3, 128)         0         \n",
      "_________________________________________________________________\n",
      "flatten (Flatten)            (None, 1152)              0         \n",
      "_________________________________________________________________\n",
      "dense (Dense)                (None, 128)               147584    \n",
      "_________________________________________________________________\n",
      "dense_1 (Dense)              (None, 1)                 129       \n",
      "=================================================================\n",
      "Total params: 189,281\n",
      "Trainable params: 189,281\n",
      "Non-trainable params: 0\n",
      "_________________________________________________________________\n"
     ]
    }
   ],
   "source": [
    "from tensorflow.keras.applications import VGG16\n",
    "\n",
    "netw = VGG16(weights='imagenet',\n",
    "             include_top=False,\n",
    "             input_shape=(imsize_x, imsize_y, 3))\n",
    "\n",
    "netw.trainable = False\n",
    "\n",
    "model = models.Sequential(\n",
    "    [\n",
    "        netw,\n",
    "        layers.Flatten(),\n",
    "        layers.Dense(192, activation=activations.elu, ),\n",
    "        layers.Dense(1, activation='sigmoid'),\n",
    "    ]\n",
    ")\n",
    "\n",
    "model.summary()"
   ],
   "metadata": {
    "collapsed": false,
    "pycharm": {
     "name": "#%%\n"
    }
   }
  },
  {
   "cell_type": "code",
   "execution_count": null,
   "outputs": [],
   "source": [
    "model.compile(\n",
    "    loss='binary_crossentropy',\n",
    "    optimizer=optimizers.Adam(learning_rate=.0002),\n",
    "    metrics=[AUC(curve='ROC'), ]\n",
    ")"
   ],
   "metadata": {
    "collapsed": false,
    "pycharm": {
     "name": "#%%\n"
    }
   }
  },
  {
   "cell_type": "code",
   "execution_count": null,
   "outputs": [],
   "source": [
    "ep = 35"
   ],
   "metadata": {
    "collapsed": false,
    "pycharm": {
     "name": "#%%\n"
    }
   }
  },
  {
   "cell_type": "code",
   "execution_count": null,
   "outputs": [],
   "source": [
    "history = model.fit(\n",
    "    train_x,\n",
    "    train_y,\n",
    "    steps_per_epoch=50,\n",
    "    epochs=ep,\n",
    "    class_weight={0: 1, 1: 5},\n",
    "    validation_data=(val_x, val_y),\n",
    "    validation_steps=25,\n",
    ")\n",
    "\n",
    "model.save('planesnet.h5')"
   ],
   "metadata": {
    "collapsed": false,
    "pycharm": {
     "name": "#%%\n"
    }
   }
  },
  {
   "cell_type": "code",
   "execution_count": 1,
   "outputs": [
    {
     "ename": "NameError",
     "evalue": "name 'network' is not defined",
     "output_type": "error",
     "traceback": [
      "\u001B[1;31m---------------------------------------------------------------------------\u001B[0m",
      "\u001B[1;31mNameError\u001B[0m                                 Traceback (most recent call last)",
      "\u001B[1;32m~\\AppData\\Local\\Temp/ipykernel_15732/1513985156.py\u001B[0m in \u001B[0;36m<module>\u001B[1;34m\u001B[0m\n\u001B[1;32m----> 1\u001B[1;33m \u001B[0mans\u001B[0m \u001B[1;33m=\u001B[0m \u001B[0mnetwork\u001B[0m\u001B[1;33m.\u001B[0m\u001B[0mpredict\u001B[0m\u001B[1;33m(\u001B[0m\u001B[0mtest_x\u001B[0m\u001B[1;33m)\u001B[0m\u001B[1;33m\u001B[0m\u001B[1;33m\u001B[0m\u001B[0m\n\u001B[0m\u001B[0;32m      2\u001B[0m \u001B[0ms\u001B[0m \u001B[1;33m=\u001B[0m \u001B[1;34m'sign,filename\\n'\u001B[0m\u001B[1;33m\u001B[0m\u001B[1;33m\u001B[0m\u001B[0m\n\u001B[0;32m      3\u001B[0m \u001B[1;33m\u001B[0m\u001B[0m\n\u001B[0;32m      4\u001B[0m \u001B[0mnames\u001B[0m \u001B[1;33m=\u001B[0m \u001B[0mopen\u001B[0m\u001B[1;33m(\u001B[0m\u001B[1;34mr'C:\\Users\\User\\PycharmProjects\\DeepLearning\\planes_data\\test_seq.txt'\u001B[0m\u001B[1;33m,\u001B[0m \u001B[1;34m'r'\u001B[0m\u001B[1;33m)\u001B[0m\u001B[1;33m.\u001B[0m\u001B[0mreadlines\u001B[0m\u001B[1;33m(\u001B[0m\u001B[1;33m)\u001B[0m\u001B[1;33m\u001B[0m\u001B[1;33m\u001B[0m\u001B[0m\n\u001B[0;32m      5\u001B[0m \u001B[1;33m\u001B[0m\u001B[0m\n",
      "\u001B[1;31mNameError\u001B[0m: name 'network' is not defined"
     ]
    }
   ],
   "source": [
    "ans = model.predict(test_x)\n",
    "s = 'sign,filename\\n'\n",
    "\n",
    "names = open(r'/home/toliman/PycharmProjects/PythonProgramming/deeplearning/DeepLearning/planes_data/test_seq.txt',\n",
    "             'r').readlines()\n",
    "\n",
    "for i, x in enumerate(ans):\n",
    "    s += f'{1 if x[0] > .5 else 0},{names[i][:-1]}\\n'\n",
    "\n",
    "sub = open(r'/home/toliman/PycharmProjects/PythonProgramming/deeplearning/DeepLearning/planes_data/sub.csv',\n",
    "           'w')\n",
    "sub.write(s)\n",
    "sub.close()"
   ],
   "metadata": {
    "collapsed": false,
    "pycharm": {
     "name": "#%%"
    }
   }
  },
  {
   "cell_type": "code",
   "execution_count": null,
   "outputs": [],
   "source": [
    "print(history.history.keys())\n",
    "\n",
    "auc, val_auc = history.history['auc'], history.history['val_auc']\n",
    "\n",
    "plt.figure(figsize=(10, 10))\n",
    "plt.plot(list(range(ep)), auc, color='blue')\n",
    "plt.plot(list(range(ep)), val_auc, color='red')\n",
    "plt.show()"
   ],
   "metadata": {
    "collapsed": false,
    "pycharm": {
     "name": "#%%\n"
    }
   }
  }
 ],
 "metadata": {
  "kernelspec": {
   "display_name": "Python 3",
   "language": "python",
   "name": "python3"
  },
  "language_info": {
   "codemirror_mode": {
    "name": "ipython",
    "version": 2
   },
   "file_extension": ".py",
   "mimetype": "text/x-python",
   "name": "python",
   "nbconvert_exporter": "python",
   "pygments_lexer": "ipython2",
   "version": "2.7.6"
  }
 },
 "nbformat": 4,
 "nbformat_minor": 0
}